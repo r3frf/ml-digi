{
 "cells": [
  {
   "cell_type": "code",
   "execution_count": 3,
   "metadata": {},
   "outputs": [],
   "source": [
    "import pandas as pd\n",
    "import numpy as np\n",
    "import matplotlib.pyplot as plt\n",
    "import seaborn as sns\n",
    "from sklearn.ensemble import RandomForestRegressor\n",
    "from sklearn.model_selection import train_test_split,cross_validate,ShuffleSplit\n",
    "from sklearn.metrics import r2_score,mean_absolute_error,mean_absolute_percentage_error,mean_squared_error,confusion_matrix,classification_report\n",
    "from pandas_profiling import ProfileReport\n",
    "from sklearn.linear_model import LogisticRegression,LogisticRegressionCV\n",
    "from sklearn.preprocessing import StandardScaler,OrdinalEncoder\n",
    "from sklearn.pipeline import make_pipeline\n",
    "from imblearn.over_sampling import SMOTE,ADASYN\n",
    "from sklearn.neighbors import KNeighborsClassifier\n",
    "from sklearn.pipeline import make_pipeline\n",
    "url=\"https://raw.githubusercontent.com/digipodium/Datasets/main/classfication/heart.csv\"\n",
    "df=pd.read_csv(url)\n"
   ]
  },
  {
   "cell_type": "code",
   "execution_count": 4,
   "metadata": {},
   "outputs": [
    {
     "data": {
      "text/html": [
       "<div>\n",
       "<style scoped>\n",
       "    .dataframe tbody tr th:only-of-type {\n",
       "        vertical-align: middle;\n",
       "    }\n",
       "\n",
       "    .dataframe tbody tr th {\n",
       "        vertical-align: top;\n",
       "    }\n",
       "\n",
       "    .dataframe thead th {\n",
       "        text-align: right;\n",
       "    }\n",
       "</style>\n",
       "<table border=\"1\" class=\"dataframe\">\n",
       "  <thead>\n",
       "    <tr style=\"text-align: right;\">\n",
       "      <th></th>\n",
       "      <th>age</th>\n",
       "      <th>sex</th>\n",
       "      <th>cp</th>\n",
       "      <th>trestbps</th>\n",
       "      <th>chol</th>\n",
       "      <th>fbs</th>\n",
       "      <th>restecg</th>\n",
       "      <th>thalach</th>\n",
       "      <th>exang</th>\n",
       "      <th>oldpeak</th>\n",
       "      <th>slope</th>\n",
       "      <th>ca</th>\n",
       "      <th>thal</th>\n",
       "      <th>target</th>\n",
       "    </tr>\n",
       "  </thead>\n",
       "  <tbody>\n",
       "    <tr>\n",
       "      <th>0</th>\n",
       "      <td>63</td>\n",
       "      <td>1</td>\n",
       "      <td>3</td>\n",
       "      <td>145</td>\n",
       "      <td>233</td>\n",
       "      <td>1</td>\n",
       "      <td>0</td>\n",
       "      <td>150</td>\n",
       "      <td>0</td>\n",
       "      <td>2.3</td>\n",
       "      <td>0</td>\n",
       "      <td>0</td>\n",
       "      <td>1</td>\n",
       "      <td>1</td>\n",
       "    </tr>\n",
       "    <tr>\n",
       "      <th>1</th>\n",
       "      <td>37</td>\n",
       "      <td>1</td>\n",
       "      <td>2</td>\n",
       "      <td>130</td>\n",
       "      <td>250</td>\n",
       "      <td>0</td>\n",
       "      <td>1</td>\n",
       "      <td>187</td>\n",
       "      <td>0</td>\n",
       "      <td>3.5</td>\n",
       "      <td>0</td>\n",
       "      <td>0</td>\n",
       "      <td>2</td>\n",
       "      <td>1</td>\n",
       "    </tr>\n",
       "    <tr>\n",
       "      <th>2</th>\n",
       "      <td>41</td>\n",
       "      <td>0</td>\n",
       "      <td>1</td>\n",
       "      <td>130</td>\n",
       "      <td>204</td>\n",
       "      <td>0</td>\n",
       "      <td>0</td>\n",
       "      <td>172</td>\n",
       "      <td>0</td>\n",
       "      <td>1.4</td>\n",
       "      <td>2</td>\n",
       "      <td>0</td>\n",
       "      <td>2</td>\n",
       "      <td>1</td>\n",
       "    </tr>\n",
       "    <tr>\n",
       "      <th>3</th>\n",
       "      <td>56</td>\n",
       "      <td>1</td>\n",
       "      <td>1</td>\n",
       "      <td>120</td>\n",
       "      <td>236</td>\n",
       "      <td>0</td>\n",
       "      <td>1</td>\n",
       "      <td>178</td>\n",
       "      <td>0</td>\n",
       "      <td>0.8</td>\n",
       "      <td>2</td>\n",
       "      <td>0</td>\n",
       "      <td>2</td>\n",
       "      <td>1</td>\n",
       "    </tr>\n",
       "    <tr>\n",
       "      <th>4</th>\n",
       "      <td>57</td>\n",
       "      <td>0</td>\n",
       "      <td>0</td>\n",
       "      <td>120</td>\n",
       "      <td>354</td>\n",
       "      <td>0</td>\n",
       "      <td>1</td>\n",
       "      <td>163</td>\n",
       "      <td>1</td>\n",
       "      <td>0.6</td>\n",
       "      <td>2</td>\n",
       "      <td>0</td>\n",
       "      <td>2</td>\n",
       "      <td>1</td>\n",
       "    </tr>\n",
       "  </tbody>\n",
       "</table>\n",
       "</div>"
      ],
      "text/plain": [
       "   age  sex  cp  trestbps  chol  fbs  restecg  thalach  exang  oldpeak  slope  \\\n",
       "0   63    1   3       145   233    1        0      150      0      2.3      0   \n",
       "1   37    1   2       130   250    0        1      187      0      3.5      0   \n",
       "2   41    0   1       130   204    0        0      172      0      1.4      2   \n",
       "3   56    1   1       120   236    0        1      178      0      0.8      2   \n",
       "4   57    0   0       120   354    0        1      163      1      0.6      2   \n",
       "\n",
       "   ca  thal  target  \n",
       "0   0     1       1  \n",
       "1   0     2       1  \n",
       "2   0     2       1  \n",
       "3   0     2       1  \n",
       "4   0     2       1  "
      ]
     },
     "execution_count": 4,
     "metadata": {},
     "output_type": "execute_result"
    }
   ],
   "source": [
    "df.head()"
   ]
  },
  {
   "cell_type": "code",
   "execution_count": 5,
   "metadata": {},
   "outputs": [
    {
     "data": {
      "text/plain": [
       "<AxesSubplot:ylabel='Frequency'>"
      ]
     },
     "execution_count": 5,
     "metadata": {},
     "output_type": "execute_result"
    },
    {
     "data": {
      "image/png": "[encoded data removed]",
      "text/plain": [
       "<Figure size 432x288 with 1 Axes>"
      ]
     },
     "metadata": {
      "needs_background": "light"
     },
     "output_type": "display_data"
    }
   ],
   "source": [
    "df[\"target\"].value_counts().plot(kind=\"hist\")"
   ]
  },
  {
   "cell_type": "code",
   "execution_count": null,
   "metadata": {},
   "outputs": [],
   "source": []
  },
  {
   "cell_type": "code",
   "execution_count": 6,
   "metadata": {},
   "outputs": [
    {
     "data": {
      "text/plain": [
       "((330, 13), (330,))"
      ]
     },
     "execution_count": 6,
     "metadata": {},
     "output_type": "execute_result"
    }
   ],
   "source": [
    "x=df.drop(columns=[\"target\"])\n",
    "y=df.target\n",
    "\n",
    "xsam1,ysam1=SMOTE().fit_resample(x,y)\n",
    "xsam1.shape,ysam1.shape"
   ]
  },
  {
   "cell_type": "code",
   "execution_count": 7,
   "metadata": {},
   "outputs": [
    {
     "data": {
      "text/plain": [
       "((276, 13), (276,))"
      ]
     },
     "execution_count": 7,
     "metadata": {},
     "output_type": "execute_result"
    }
   ],
   "source": [
    "from imblearn.under_sampling import NearMiss, RandomUnderSampler\n",
    "xsam2,ysam2=NearMiss().fit_resample(x,y)\n",
    "xsam2.shape,ysam2.shape"
   ]
  },
  {
   "cell_type": "code",
   "execution_count": 8,
   "metadata": {},
   "outputs": [],
   "source": [
    "xtrain,xtest,ytrain,ytest=train_test_split(xsam1,ysam1,test_size=.2,random_state=0)\n",
    "model=KNeighborsClassifier()\n",
    "model.fit(xtrain,ytrain)\n",
    "ypre=model.predict(xtest)\n",
    "cm=confusion_matrix(ytest,ypre)\n",
    "cr=classification_report(ytest,ypre)"
   ]
  },
  {
   "cell_type": "code",
   "execution_count": 9,
   "metadata": {},
   "outputs": [
    {
     "name": "stdout",
     "output_type": "stream",
     "text": [
      "[[19 11]\n",
      " [14 22]]\n",
      "              precision    recall  f1-score   support\n",
      "\n",
      "           0       0.58      0.63      0.60        30\n",
      "           1       0.67      0.61      0.64        36\n",
      "\n",
      "    accuracy                           0.62        66\n",
      "   macro avg       0.62      0.62      0.62        66\n",
      "weighted avg       0.63      0.62      0.62        66\n",
      "\n"
     ]
    }
   ],
   "source": [
    "print(cm)\n",
    "print(cr)"
   ]
  },
  {
   "cell_type": "code",
   "execution_count": 10,
   "metadata": {},
   "outputs": [
    {
     "name": "stdout",
     "output_type": "stream",
     "text": [
      "[[15 11]\n",
      " [ 7 23]]\n",
      "              precision    recall  f1-score   support\n",
      "\n",
      "           0       0.68      0.58      0.62        26\n",
      "           1       0.68      0.77      0.72        30\n",
      "\n",
      "    accuracy                           0.68        56\n",
      "   macro avg       0.68      0.67      0.67        56\n",
      "weighted avg       0.68      0.68      0.68        56\n",
      "\n"
     ]
    }
   ],
   "source": [
    "xtrain,xtest,ytrain,ytest=train_test_split(xsam2,ysam2,test_size=.2,random_state=0)\n",
    "model=KNeighborsClassifier()\n",
    "model.fit(xtrain,ytrain)\n",
    "ypre=model.predict(xtest)\n",
    "cm=confusion_matrix(ytest,ypre)\n",
    "cr=classification_report(ytest,ypre)\n",
    "print(cm)\n",
    "print(cr)"
   ]
  },
  {
   "cell_type": "code",
   "execution_count": 11,
   "metadata": {},
   "outputs": [
    {
     "name": "stdout",
     "output_type": "stream",
     "text": [
      "[[17  9]\n",
      " [ 2 28]]\n",
      "              precision    recall  f1-score   support\n",
      "\n",
      "           0       0.89      0.65      0.76        26\n",
      "           1       0.76      0.93      0.84        30\n",
      "\n",
      "    accuracy                           0.80        56\n",
      "   macro avg       0.83      0.79      0.80        56\n",
      "weighted avg       0.82      0.80      0.80        56\n",
      "\n"
     ]
    }
   ],
   "source": [
    "model=make_pipeline(StandardScaler(),LogisticRegressionCV())\n",
    "model.fit(xtrain,ytrain)\n",
    "ypre=model.predict(xtest)\n",
    "cm=confusion_matrix(ytest,ypre)\n",
    "cr=classification_report(ytest,ypre)\n",
    "print(cm)\n",
    "print(cr)\n"
   ]
  },
  {
   "cell_type": "code",
   "execution_count": 12,
   "metadata": {},
   "outputs": [
    {
     "name": "stdout",
     "output_type": "stream",
     "text": [
      "[[15 11]\n",
      " [ 7 23]]\n",
      "              precision    recall  f1-score   support\n",
      "\n",
      "           0       0.68      0.58      0.62        26\n",
      "           1       0.68      0.77      0.72        30\n",
      "\n",
      "    accuracy                           0.68        56\n",
      "   macro avg       0.68      0.67      0.67        56\n",
      "weighted avg       0.68      0.68      0.68        56\n",
      "\n"
     ]
    }
   ],
   "source": [
    "xtrain,xtest,ytrain,ytest=train_test_split(xsam2,ysam2,test_size=.2,random_state=0)\n",
    "model=KNeighborsClassifier()\n",
    "model.fit(xtrain,ytrain)\n",
    "ypre=model.predict(xtest)\n",
    "cm=confusion_matrix(ytest,ypre)\n",
    "cr=classification_report(ytest,ypre)\n",
    "print(cm)\n",
    "print(cr)\n"
   ]
  },
  {
   "cell_type": "code",
   "execution_count": 21,
   "metadata": {},
   "outputs": [
    {
     "data": {
      "text/plain": [
       "((100, 1), (100,))"
      ]
     },
     "execution_count": 21,
     "metadata": {},
     "output_type": "execute_result"
    },
    {
     "data": {
      "image/png": "[encoded data removed]",
      "text/plain": [
       "<Figure size 432x288 with 1 Axes>"
      ]
     },
     "metadata": {
      "needs_background": "light"
     },
     "output_type": "display_data"
    }
   ],
   "source": [
    "                 \n",
    "from sklearn.datasets import make_regression\n",
    "import matplotlib.pyplot as plt\n",
    "import numpy as np\n",
    "from sklearn.model_selection import cross_val_score\n",
    "\n",
    "X,y = make_regression(n_samples=100, n_features=1, n_informative=1, n_targets=1,noise=20,random_state=13)\n",
    "\n",
    "plt.scatter(X,y)\n",
    "\n",
    "X.shape,y.shape    "
   ]
  },
  {
   "cell_type": "code",
   "execution_count": 22,
   "metadata": {},
   "outputs": [
    {
     "name": "stdout",
     "output_type": "stream",
     "text": [
      "-18254.207774488757\n",
      "9953.701077881147\n",
      "-15414.19417304841\n",
      "8591.034328486188\n",
      "-13017.540401683793\n",
      "7412.154037504528\n",
      "-10994.798197931963\n",
      "6392.761240244747\n",
      "-9287.434115088945\n",
      "5511.6818485103995\n",
      "-7846.108474070281\n",
      "4750.480862424274\n",
      "-6629.226556746172\n",
      "4093.121183592239\n",
      "-5601.718843541419\n",
      "3525.6624669409894\n",
      "-4734.01397267054\n",
      "3035.9957909534514\n",
      "-4001.1738758001384\n",
      "2613.6102721616335\n",
      "-3382.165400769939\n",
      "2249.3880901797547\n",
      "-2859.2468136673915\n",
      "1935.4247176696997\n",
      "-2417.4510038070107\n",
      "1664.8714610212373\n",
      "-2044.1500999441835\n",
      "1431.7977094679998\n",
      "-1728.688631632885\n",
      "1231.0705613703797\n",
      "-1462.0744093198534\n",
      "1058.2497459334095\n",
      "-1236.718012123672\n",
      "909.4959868230103\n",
      "-1046.2132149953732\n",
      "781.4911616084084\n",
      "-885.1519005467785\n",
      "671.3687986290563\n",
      "-748.9680217688851\n",
      "576.6536219080872\n",
      "-633.8060408185736\n",
      "495.2090063798412\n",
      "-536.4099918037982\n",
      "425.19134129109943\n",
      "-454.02992370776906\n",
      "365.01042050686954\n",
      "-384.3429914687983\n",
      "313.2950859078268\n",
      "-325.3868940792462\n",
      "268.8634453629856\n",
      "-275.50372125049665\n",
      "230.69707108670082\n",
      "-233.29257552837615\n",
      "197.91865865620287\n",
      "-197.56959383034223\n",
      "169.77269260607875\n",
      "-167.3342088607091\n",
      "145.60872227790503\n",
      "-141.74067317557356\n",
      "124.86690235333555\n",
      "-120.07402222531815\n",
      "107.06549702449368\n",
      "-101.72978205057636\n",
      "91.79008576814313\n",
      "-86.19683627602323\n",
      "78.68424283029523\n",
      "-73.04295885652621\n",
      "67.44149236994456\n",
      "-61.902596392560724\n",
      "57.798367267762075\n",
      "-52.46654902733533\n",
      "49.52842233515598\n",
      "-44.47325388652264\n",
      "42.437072467514675\n",
      "-37.701421338698395\n",
      "36.35714353297689\n",
      "-31.963813400813976\n",
      "31.1450387934147\n",
      "-27.101986533454948\n",
      "26.67743669884605\n",
      "-22.981848829490758\n",
      "22.848447228116\n",
      "-19.489905008998406\n",
      "19.567163785565\n",
      "-16.53008237683609\n",
      "16.755556197111886\n",
      "-14.021047552934903\n",
      "14.346657747777684\n",
      "-11.893937834433544\n",
      "12.283005613436814\n",
      "-10.090442901938985\n",
      "10.515299591236982\n",
      "-8.561182583830629\n",
      "9.001248838353774\n",
      "-7.2643348328422235\n",
      "7.704580485734354\n",
      "-6.164475192710157\n",
      "6.59418758801597\n",
      "-5.2315950455867295\n",
      "5.643396977552811\n",
      "28.159367347119066 -2.3004574196824854\n"
     ]
    }
   ],
   "source": [
    "from sklearn.model_selection import train_test_split\n",
    "X_train,X_test,y_train,y_test = train_test_split(X,y,test_size=0.2,random_state=2)\n",
    "X_train.shape\n",
    "from sklearn.linear_model import LinearRegression\n",
    "'''lr = LinearRegression()\n",
    "lr.fit(X_train,y_train)\n",
    "print(lr.coef_)\n",
    "print(lr.intercept_)\n",
    "y_pred = lr.predict(X_test)\n",
    "from sklearn.metrics import r2_score\n",
    "r2_score(y_test,y_pred)'''\n",
    "class GDRegressor:\n",
    "    def __init__(self,learning_rate,epochs):\n",
    "        self.m = 100\n",
    "        self.b = -120\n",
    "        self.lr = learning_rate\n",
    "        self.epochs = epochs\n",
    "    def fit(self,X,y):# calcualte the b using GD\n",
    "        for i in range(self.epochs):\n",
    "            loss_slope_b = -2 * np.sum(y - self.m*X.ravel() - self.b)\n",
    "            print(loss_slope_b)\n",
    "            loss_slope_m = -2 * np.sum((y - self.m*X.ravel() - self.b)*X.ravel())\n",
    "            print(loss_slope_m)\n",
    "            self.b = self.b - (self.lr * loss_slope_b)\n",
    "            self.m = self.m - (self.lr * loss_slope_m)\n",
    "        print(self.m,self.b)       \n",
    "    def predict(self,X):\n",
    "        return self.m * X + self.b\n",
    "    \n",
    "gd = GDRegressor(0.001,50)\n",
    "gd.fit(X_train,y_train)"
   ]
  },
  {
   "cell_type": "code",
   "execution_count": null,
   "metadata": {},
   "outputs": [],
   "source": []
  }
 ],
 "metadata": {
  "kernelspec": {
   "display_name": "Python 3.10.4 ('ml')",
   "language": "python",
   "name": "python3"
  },
  "language_info": {
   "codemirror_mode": {
    "name": "ipython",
    "version": 3
   },
   "file_extension": ".py",
   "mimetype": "text/x-python",
   "name": "python",
   "nbconvert_exporter": "python",
   "pygments_lexer": "ipython3",
   "version": "3.10.4"
  },
  "orig_nbformat": 4,
  "vscode": {
   "interpreter": {
    "hash": "0928cf12104c83dd7dd5aca7bd636c606d5426bfb9ab8b9238dcd11f6ecbb240"
   }
  }
 },
 "nbformat": 4,
 "nbformat_minor": 2
}
